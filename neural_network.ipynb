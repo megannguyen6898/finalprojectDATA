{
 "cells": [
  {
   "cell_type": "markdown",
   "metadata": {},
   "source": [
    "# load dataset"
   ]
  },
  {
   "cell_type": "code",
   "execution_count": 1,
   "metadata": {},
   "outputs": [],
   "source": [
    "from tqdm import trange, tqdm\n",
    "import numpy as np\n",
    "import pandas as pd\n",
    "import matplotlib.pyplot as plt"
   ]
  },
  {
   "cell_type": "code",
   "execution_count": 2,
   "metadata": {},
   "outputs": [],
   "source": [
    "dataset = pd.read_csv(\"Goulburn.csv\",parse_dates=[\"Date\"])"
   ]
  },
  {
   "cell_type": "code",
   "execution_count": 3,
   "metadata": {
    "scrolled": true
   },
   "outputs": [
    {
     "data": {
      "text/html": [
       "<div>\n",
       "<style scoped>\n",
       "    .dataframe tbody tr th:only-of-type {\n",
       "        vertical-align: middle;\n",
       "    }\n",
       "\n",
       "    .dataframe tbody tr th {\n",
       "        vertical-align: top;\n",
       "    }\n",
       "\n",
       "    .dataframe thead th {\n",
       "        text-align: right;\n",
       "    }\n",
       "</style>\n",
       "<table border=\"1\" class=\"dataframe\">\n",
       "  <thead>\n",
       "    <tr style=\"text-align: right;\">\n",
       "      <th></th>\n",
       "      <th>Date</th>\n",
       "      <th>Conductivity</th>\n",
       "      <th>PH</th>\n",
       "      <th>Turbidity</th>\n",
       "      <th>Temperature</th>\n",
       "    </tr>\n",
       "  </thead>\n",
       "  <tbody>\n",
       "    <tr>\n",
       "      <th>0</th>\n",
       "      <td>2009-07-06 00:00:00+10:00</td>\n",
       "      <td>66.0</td>\n",
       "      <td>NaN</td>\n",
       "      <td>NaN</td>\n",
       "      <td>9.8</td>\n",
       "    </tr>\n",
       "    <tr>\n",
       "      <th>1</th>\n",
       "      <td>2009-07-07 00:00:00+10:00</td>\n",
       "      <td>66.0</td>\n",
       "      <td>6.82</td>\n",
       "      <td>9.7</td>\n",
       "      <td>9.6</td>\n",
       "    </tr>\n",
       "    <tr>\n",
       "      <th>2</th>\n",
       "      <td>2009-07-08 00:00:00+10:00</td>\n",
       "      <td>67.0</td>\n",
       "      <td>6.58</td>\n",
       "      <td>9.7</td>\n",
       "      <td>9.3</td>\n",
       "    </tr>\n",
       "    <tr>\n",
       "      <th>3</th>\n",
       "      <td>2009-07-09 00:00:00+10:00</td>\n",
       "      <td>67.0</td>\n",
       "      <td>6.63</td>\n",
       "      <td>9.3</td>\n",
       "      <td>9.2</td>\n",
       "    </tr>\n",
       "    <tr>\n",
       "      <th>4</th>\n",
       "      <td>2009-07-10 00:00:00+10:00</td>\n",
       "      <td>69.0</td>\n",
       "      <td>6.71</td>\n",
       "      <td>9.6</td>\n",
       "      <td>9.3</td>\n",
       "    </tr>\n",
       "  </tbody>\n",
       "</table>\n",
       "</div>"
      ],
      "text/plain": [
       "                       Date  Conductivity    PH  Turbidity  Temperature\n",
       "0 2009-07-06 00:00:00+10:00          66.0   NaN        NaN          9.8\n",
       "1 2009-07-07 00:00:00+10:00          66.0  6.82        9.7          9.6\n",
       "2 2009-07-08 00:00:00+10:00          67.0  6.58        9.7          9.3\n",
       "3 2009-07-09 00:00:00+10:00          67.0  6.63        9.3          9.2\n",
       "4 2009-07-10 00:00:00+10:00          69.0  6.71        9.6          9.3"
      ]
     },
     "execution_count": 3,
     "metadata": {},
     "output_type": "execute_result"
    }
   ],
   "source": [
    "dataset.head()"
   ]
  },
  {
   "cell_type": "code",
   "execution_count": 4,
   "metadata": {},
   "outputs": [
    {
     "name": "stdout",
     "output_type": "stream",
     "text": [
      "<class 'pandas.core.frame.DataFrame'>\n",
      "RangeIndex: 4301 entries, 0 to 4300\n",
      "Data columns (total 5 columns):\n",
      " #   Column        Non-Null Count  Dtype                                \n",
      "---  ------        --------------  -----                                \n",
      " 0   Date          4301 non-null   datetime64[ns, pytz.FixedOffset(600)]\n",
      " 1   Conductivity  4185 non-null   float64                              \n",
      " 2   PH            3529 non-null   float64                              \n",
      " 3   Turbidity     3820 non-null   float64                              \n",
      " 4   Temperature   4156 non-null   float64                              \n",
      "dtypes: datetime64[ns, pytz.FixedOffset(600)](1), float64(4)\n",
      "memory usage: 168.1 KB\n"
     ]
    }
   ],
   "source": [
    "dataset.info()"
   ]
  },
  {
   "cell_type": "code",
   "execution_count": 5,
   "metadata": {},
   "outputs": [],
   "source": [
    "# set datetime index\n",
    "dataset.index = dataset.Date.copy()"
   ]
  },
  {
   "cell_type": "code",
   "execution_count": 6,
   "metadata": {},
   "outputs": [],
   "source": [
    "# drop NaN\n",
    "dataset.dropna(inplace=True)"
   ]
  },
  {
   "cell_type": "code",
   "execution_count": 7,
   "metadata": {},
   "outputs": [],
   "source": [
    "# Normalize\n",
    "dataset['PH_norm'] = (dataset.PH - dataset.PH.mean())/dataset.PH.std()\n",
    "dataset['Conduct_norm'] = (dataset.Conductivity - dataset.Conductivity.mean())/dataset.Conductivity.std()\n",
    "dataset['Temp_norm'] = (dataset.Temperature - dataset.Temperature.mean())/dataset.Temperature.std()\n",
    "dataset['Turb_norm'] = (dataset.Turbidity - dataset.Turbidity.mean())/dataset.Turbidity.std()"
   ]
  },
  {
   "cell_type": "code",
   "execution_count": 8,
   "metadata": {
    "scrolled": true
   },
   "outputs": [
    {
     "data": {
      "text/html": [
       "<div>\n",
       "<style scoped>\n",
       "    .dataframe tbody tr th:only-of-type {\n",
       "        vertical-align: middle;\n",
       "    }\n",
       "\n",
       "    .dataframe tbody tr th {\n",
       "        vertical-align: top;\n",
       "    }\n",
       "\n",
       "    .dataframe thead th {\n",
       "        text-align: right;\n",
       "    }\n",
       "</style>\n",
       "<table border=\"1\" class=\"dataframe\">\n",
       "  <thead>\n",
       "    <tr style=\"text-align: right;\">\n",
       "      <th></th>\n",
       "      <th>Date</th>\n",
       "      <th>Conductivity</th>\n",
       "      <th>PH</th>\n",
       "      <th>Turbidity</th>\n",
       "      <th>Temperature</th>\n",
       "      <th>PH_norm</th>\n",
       "      <th>Conduct_norm</th>\n",
       "      <th>Temp_norm</th>\n",
       "      <th>Turb_norm</th>\n",
       "    </tr>\n",
       "    <tr>\n",
       "      <th>Date</th>\n",
       "      <th></th>\n",
       "      <th></th>\n",
       "      <th></th>\n",
       "      <th></th>\n",
       "      <th></th>\n",
       "      <th></th>\n",
       "      <th></th>\n",
       "      <th></th>\n",
       "      <th></th>\n",
       "    </tr>\n",
       "  </thead>\n",
       "  <tbody>\n",
       "    <tr>\n",
       "      <th>2009-07-07 00:00:00+10:00</th>\n",
       "      <td>2009-07-07 00:00:00+10:00</td>\n",
       "      <td>66.0</td>\n",
       "      <td>6.82</td>\n",
       "      <td>9.7</td>\n",
       "      <td>9.6</td>\n",
       "      <td>-0.831885</td>\n",
       "      <td>-0.424352</td>\n",
       "      <td>-1.343368</td>\n",
       "      <td>-0.517130</td>\n",
       "    </tr>\n",
       "    <tr>\n",
       "      <th>2009-07-08 00:00:00+10:00</th>\n",
       "      <td>2009-07-08 00:00:00+10:00</td>\n",
       "      <td>67.0</td>\n",
       "      <td>6.58</td>\n",
       "      <td>9.7</td>\n",
       "      <td>9.3</td>\n",
       "      <td>-1.676229</td>\n",
       "      <td>-0.390683</td>\n",
       "      <td>-1.410164</td>\n",
       "      <td>-0.517130</td>\n",
       "    </tr>\n",
       "    <tr>\n",
       "      <th>2009-07-09 00:00:00+10:00</th>\n",
       "      <td>2009-07-09 00:00:00+10:00</td>\n",
       "      <td>67.0</td>\n",
       "      <td>6.63</td>\n",
       "      <td>9.3</td>\n",
       "      <td>9.2</td>\n",
       "      <td>-1.500324</td>\n",
       "      <td>-0.390683</td>\n",
       "      <td>-1.432429</td>\n",
       "      <td>-0.531325</td>\n",
       "    </tr>\n",
       "    <tr>\n",
       "      <th>2009-07-10 00:00:00+10:00</th>\n",
       "      <td>2009-07-10 00:00:00+10:00</td>\n",
       "      <td>69.0</td>\n",
       "      <td>6.71</td>\n",
       "      <td>9.6</td>\n",
       "      <td>9.3</td>\n",
       "      <td>-1.218876</td>\n",
       "      <td>-0.323344</td>\n",
       "      <td>-1.410164</td>\n",
       "      <td>-0.520679</td>\n",
       "    </tr>\n",
       "    <tr>\n",
       "      <th>2009-07-11 00:00:00+10:00</th>\n",
       "      <td>2009-07-11 00:00:00+10:00</td>\n",
       "      <td>71.0</td>\n",
       "      <td>6.77</td>\n",
       "      <td>10.0</td>\n",
       "      <td>9.5</td>\n",
       "      <td>-1.007790</td>\n",
       "      <td>-0.256005</td>\n",
       "      <td>-1.365633</td>\n",
       "      <td>-0.506484</td>\n",
       "    </tr>\n",
       "  </tbody>\n",
       "</table>\n",
       "</div>"
      ],
      "text/plain": [
       "                                               Date  Conductivity    PH  \\\n",
       "Date                                                                      \n",
       "2009-07-07 00:00:00+10:00 2009-07-07 00:00:00+10:00          66.0  6.82   \n",
       "2009-07-08 00:00:00+10:00 2009-07-08 00:00:00+10:00          67.0  6.58   \n",
       "2009-07-09 00:00:00+10:00 2009-07-09 00:00:00+10:00          67.0  6.63   \n",
       "2009-07-10 00:00:00+10:00 2009-07-10 00:00:00+10:00          69.0  6.71   \n",
       "2009-07-11 00:00:00+10:00 2009-07-11 00:00:00+10:00          71.0  6.77   \n",
       "\n",
       "                           Turbidity  Temperature   PH_norm  Conduct_norm  \\\n",
       "Date                                                                        \n",
       "2009-07-07 00:00:00+10:00        9.7          9.6 -0.831885     -0.424352   \n",
       "2009-07-08 00:00:00+10:00        9.7          9.3 -1.676229     -0.390683   \n",
       "2009-07-09 00:00:00+10:00        9.3          9.2 -1.500324     -0.390683   \n",
       "2009-07-10 00:00:00+10:00        9.6          9.3 -1.218876     -0.323344   \n",
       "2009-07-11 00:00:00+10:00       10.0          9.5 -1.007790     -0.256005   \n",
       "\n",
       "                           Temp_norm  Turb_norm  \n",
       "Date                                             \n",
       "2009-07-07 00:00:00+10:00  -1.343368  -0.517130  \n",
       "2009-07-08 00:00:00+10:00  -1.410164  -0.517130  \n",
       "2009-07-09 00:00:00+10:00  -1.432429  -0.531325  \n",
       "2009-07-10 00:00:00+10:00  -1.410164  -0.520679  \n",
       "2009-07-11 00:00:00+10:00  -1.365633  -0.506484  "
      ]
     },
     "execution_count": 8,
     "metadata": {},
     "output_type": "execute_result"
    }
   ],
   "source": [
    "dataset.head()"
   ]
  },
  {
   "cell_type": "code",
   "execution_count": 9,
   "metadata": {},
   "outputs": [
    {
     "data": {
      "text/plain": [
       "<matplotlib.collections.PathCollection at 0x20465cf0b80>"
      ]
     },
     "execution_count": 9,
     "metadata": {},
     "output_type": "execute_result"
    },
    {
     "data": {
      "image/png": "[encoded data removed]",
      "text/plain": [
       "<Figure size 432x288 with 1 Axes>"
      ]
     },
     "metadata": {
      "needs_background": "light"
     },
     "output_type": "display_data"
    }
   ],
   "source": [
    "plt.scatter(dataset.Turbidity, dataset.Conductivity)"
   ]
  },
  {
   "cell_type": "code",
   "execution_count": 10,
   "metadata": {
    "scrolled": true
   },
   "outputs": [
    {
     "data": {
      "text/plain": [
       "<matplotlib.collections.PathCollection at 0x20465e8b220>"
      ]
     },
     "execution_count": 10,
     "metadata": {},
     "output_type": "execute_result"
    },
    {
     "data": {
      "image/png": "[encoded data removed]",
      "text/plain": [
       "<Figure size 432x288 with 1 Axes>"
      ]
     },
     "metadata": {
      "needs_background": "light"
     },
     "output_type": "display_data"
    }
   ],
   "source": [
    "plt.scatter(dataset.PH, dataset.Conductivity)"
   ]
  },
  {
   "cell_type": "code",
   "execution_count": 11,
   "metadata": {},
   "outputs": [
    {
     "data": {
      "text/plain": [
       "<matplotlib.collections.PathCollection at 0x20465fe8640>"
      ]
     },
     "execution_count": 11,
     "metadata": {},
     "output_type": "execute_result"
    },
    {
     "data": {
      "image/png": "[encoded data removed]",
      "text/plain": [
       "<Figure size 432x288 with 1 Axes>"
      ]
     },
     "metadata": {
      "needs_background": "light"
     },
     "output_type": "display_data"
    }
   ],
   "source": [
    "plt.scatter(dataset.Temperature, dataset.Conductivity)"
   ]
  },
  {
   "cell_type": "code",
   "execution_count": 12,
   "metadata": {},
   "outputs": [
    {
     "data": {
      "text/plain": [
       "<AxesSubplot:xlabel='Date'>"
      ]
     },
     "execution_count": 12,
     "metadata": {},
     "output_type": "execute_result"
    },
    {
     "data": {
      "image/png": "[encoded data removed]",
      "text/plain": [
       "<Figure size 1080x720 with 4 Axes>"
      ]
     },
     "metadata": {
      "needs_background": "light"
     },
     "output_type": "display_data"
    }
   ],
   "source": [
    "fig, axes = plt.subplots(nrows=4, ncols=1, sharex=True)\n",
    "fig.set_figheight(10)\n",
    "fig.set_figwidth(15)\n",
    "dataset.Conductivity.plot(ax=axes[0])\n",
    "dataset.Temperature.plot(ax=axes[1])\n",
    "dataset.PH.plot(ax=axes[2])\n",
    "dataset.Turbidity.plot(ax=axes[3])"
   ]
  },
  {
   "cell_type": "code",
   "execution_count": 13,
   "metadata": {
    "scrolled": false
   },
   "outputs": [
    {
     "data": {
      "text/plain": [
       "<AxesSubplot:>"
      ]
     },
     "execution_count": 13,
     "metadata": {},
     "output_type": "execute_result"
    },
    {
     "data": {
      "image/png": "[encoded data removed]",
      "text/plain": [
       "<Figure size 1080x720 with 4 Axes>"
      ]
     },
     "metadata": {
      "needs_background": "light"
     },
     "output_type": "display_data"
    }
   ],
   "source": [
    "fig, axes = plt.subplots(nrows=1, ncols=4)\n",
    "fig.set_figheight(10)\n",
    "fig.set_figwidth(15)\n",
    "dataset.boxplot(column=\"Turbidity\", ax=axes[0])\n",
    "dataset.boxplot(column=\"Temperature\", ax=axes[1])\n",
    "dataset.boxplot(column=\"PH\", ax=axes[2])\n",
    "dataset.boxplot(column=\"Conductivity\", ax=axes[3])"
   ]
  },
  {
   "cell_type": "code",
   "execution_count": 14,
   "metadata": {},
   "outputs": [
    {
     "data": {
      "text/plain": [
       "<AxesSubplot:xlabel='Date'>"
      ]
     },
     "execution_count": 14,
     "metadata": {},
     "output_type": "execute_result"
    },
    {
     "data": {
      "image/png": "[encoded data removed]",
      "text/plain": [
       "<Figure size 432x288 with 1 Axes>"
      ]
     },
     "metadata": {
      "needs_background": "light"
     },
     "output_type": "display_data"
    }
   ],
   "source": [
    "dataset.Conductivity.plot()\n",
    "dataset.PH.plot()\n",
    "dataset.Turbidity.plot()\n",
    "dataset.Temperature.plot()"
   ]
  },
  {
   "cell_type": "markdown",
   "metadata": {},
   "source": [
    "# split"
   ]
  },
  {
   "cell_type": "code",
   "execution_count": 15,
   "metadata": {},
   "outputs": [],
   "source": [
    "import torch"
   ]
  },
  {
   "cell_type": "code",
   "execution_count": 16,
   "metadata": {},
   "outputs": [],
   "source": [
    "X = dataset[[\"PH_norm\", \"Temp_norm\", \"Turb_norm\"]]\n",
    "y = dataset.Conduct_norm"
   ]
  },
  {
   "cell_type": "code",
   "execution_count": 17,
   "metadata": {},
   "outputs": [],
   "source": [
    "from sklearn.model_selection import train_test_split"
   ]
  },
  {
   "cell_type": "code",
   "execution_count": 18,
   "metadata": {},
   "outputs": [],
   "source": [
    "X_train, X_test, y_train, y_test = train_test_split(X, y, test_size=0.25)"
   ]
  },
  {
   "cell_type": "code",
   "execution_count": 19,
   "metadata": {},
   "outputs": [],
   "source": [
    "X_train = torch.from_numpy(X_train.to_numpy()).type(torch.FloatTensor)\n",
    "y_train = torch.from_numpy(y_train.to_numpy()).type(torch.FloatTensor)\n",
    "X_test = torch.from_numpy(X_test.to_numpy()).type(torch.FloatTensor)\n",
    "y_test = torch.from_numpy(y_test.to_numpy()).type(torch.FloatTensor)"
   ]
  },
  {
   "cell_type": "markdown",
   "metadata": {},
   "source": [
    "## build dataset"
   ]
  },
  {
   "cell_type": "code",
   "execution_count": 20,
   "metadata": {},
   "outputs": [],
   "source": [
    "import os\n",
    "import torch\n",
    "from torch import nn\n",
    "import torch.nn.functional as F"
   ]
  },
  {
   "cell_type": "code",
   "execution_count": 21,
   "metadata": {},
   "outputs": [],
   "source": [
    "from torch.utils.data import Dataset, DataLoader"
   ]
  },
  {
   "cell_type": "code",
   "execution_count": 22,
   "metadata": {},
   "outputs": [],
   "source": [
    "class TheDataset(Dataset):\n",
    "    def __init__(self, X, y):\n",
    "        self.X = X\n",
    "        self.y = y\n",
    "    def __len__(self):\n",
    "        return self.X.shape[0]\n",
    "    def __getitem__(self, idx):\n",
    "        return self.X[idx], self.y[idx]"
   ]
  },
  {
   "cell_type": "code",
   "execution_count": 23,
   "metadata": {},
   "outputs": [],
   "source": [
    "train_ds = TheDataset(X_train, y_train)\n",
    "test_ds = TheDataset(X_test, y_test)"
   ]
  },
  {
   "cell_type": "code",
   "execution_count": 24,
   "metadata": {},
   "outputs": [],
   "source": [
    "BATCH_SIZE = 10\n",
    "train_loader = DataLoader(train_ds, batch_size=BATCH_SIZE, shuffle=True)\n",
    "test_loader = DataLoader(test_ds, batch_size=BATCH_SIZE, shuffle=True)"
   ]
  },
  {
   "cell_type": "markdown",
   "metadata": {},
   "source": [
    "## build model"
   ]
  },
  {
   "cell_type": "code",
   "execution_count": 25,
   "metadata": {},
   "outputs": [],
   "source": [
    "baseline_model = torch.nn.Sequential(\n",
    "    torch.nn.Linear(3, 4),\n",
    "    torch.nn.Linear(4, 1),\n",
    ")"
   ]
  },
  {
   "cell_type": "code",
   "execution_count": 26,
   "metadata": {},
   "outputs": [],
   "source": [
    "loss_fn = torch.nn.MSELoss(reduction='mean')\n",
    "optimizer = torch.optim.RMSprop(baseline_model.parameters(), lr=1e-3)"
   ]
  },
  {
   "cell_type": "code",
   "execution_count": 27,
   "metadata": {},
   "outputs": [],
   "source": [
    "def train_model(model, loss_fn, optimizer, train_dl):\n",
    "    total = 0\n",
    "    sum_loss = 0\n",
    "    for index, (feats,target) in enumerate(train_dl):\n",
    "        pred = model(feats)\n",
    "        losses = loss_fn(pred, target)\n",
    "        optimizer.zero_grad()\n",
    "        losses.backward()\n",
    "        optimizer.step()\n",
    "        batch_size = feats.shape[0]\n",
    "        total += batch_size\n",
    "        sum_loss += batch_size*losses.item()\n",
    "    return sum_loss/total"
   ]
  },
  {
   "cell_type": "code",
   "execution_count": 28,
   "metadata": {},
   "outputs": [],
   "source": [
    "def train_loop(model, loss_fn, optim, epochs, train_dl):\n",
    "    t = trange(epochs, desc='Bar desc', leave=True)\n",
    "    for i in t:\n",
    "        loss = train_model(model, loss_fn, optim, train_dl)\n",
    "        if i % 10 == 0:\n",
    "               t.set_description(f\"loss = {loss}\", refresh=True)"
   ]
  },
  {
   "cell_type": "code",
   "execution_count": 29,
   "metadata": {},
   "outputs": [
    {
     "name": "stderr",
     "output_type": "stream",
     "text": [
      "Bar desc:   0%|                                                                                                      | 0/100 [00:00<?, ?it/s]C:\\Users\\giang\\miniconda3\\envs\\misc\\lib\\site-packages\\torch\\nn\\modules\\loss.py:528: UserWarning: Using a target size (torch.Size([10])) that is different to the input size (torch.Size([10, 1])). This will likely lead to incorrect results due to broadcasting. Please ensure they have the same size.\n",
      "  return F.mse_loss(input, target, reduction=self.reduction)\n",
      "C:\\Users\\giang\\miniconda3\\envs\\misc\\lib\\site-packages\\torch\\nn\\modules\\loss.py:528: UserWarning: Using a target size (torch.Size([8])) that is different to the input size (torch.Size([8, 1])). This will likely lead to incorrect results due to broadcasting. Please ensure they have the same size.\n",
      "  return F.mse_loss(input, target, reduction=self.reduction)\n",
      "loss = 1.0069706658377966: 100%|███████████████████████████████████████████████████████████████████████████| 100/100 [00:12<00:00,  8.18it/s]\n"
     ]
    }
   ],
   "source": [
    "train_loop(baseline_model, loss_fn, optimizer, 100, train_loader)"
   ]
  },
  {
   "cell_type": "markdown",
   "metadata": {},
   "source": [
    "- [x] get parameters\n",
    "- [x] calculate residuals\n",
    "- [x] bootstrapping residuals\n",
    "- [x] generate new synthetic datasets from sampled residuals\n",
    "- [x] estimate parameters for each model trained on each new synthetic dataset\n",
    "- [x] aggregate all parameters from all models\n",
    "- [x] Calculate covariance and means of these all parameters\n",
    "- [x] MCMC from this covariance and means to more sets of parameters\n",
    "- [x] create models from these set of parameters, validate on test set\n",
    "- [x] plot uncertainty of output"
   ]
  },
  {
   "cell_type": "code",
   "execution_count": 30,
   "metadata": {},
   "outputs": [],
   "source": [
    "baseline_model.eval()\n",
    "residuals = y_train - baseline_model(X_train).squeeze()"
   ]
  },
  {
   "cell_type": "code",
   "execution_count": 31,
   "metadata": {
    "scrolled": true
   },
   "outputs": [
    {
     "data": {
      "text/plain": [
       "torch.Size([2478])"
      ]
     },
     "execution_count": 31,
     "metadata": {},
     "output_type": "execute_result"
    }
   ],
   "source": [
    "residuals.shape"
   ]
  },
  {
   "cell_type": "markdown",
   "metadata": {},
   "source": [
    "### residual bootstrapping"
   ]
  },
  {
   "cell_type": "code",
   "execution_count": 32,
   "metadata": {},
   "outputs": [],
   "source": [
    "from sklearn.utils import resample"
   ]
  },
  {
   "cell_type": "code",
   "execution_count": 33,
   "metadata": {},
   "outputs": [],
   "source": [
    "bootstrap_residuals = []\n",
    "for i in range(30):\n",
    "    bootstrap_residual = resample(residuals.detach(), n_samples=residuals.shape[0], replace=True)\n",
    "    bootstrap_residuals.append(bootstrap_residual)"
   ]
  },
  {
   "cell_type": "code",
   "execution_count": 34,
   "metadata": {},
   "outputs": [
    {
     "data": {
      "text/plain": [
       "tensor([-0.6560, -0.7744, -0.0702,  ...,  1.8431, -0.9057,  1.1479],\n",
       "       grad_fn=<SubBackward0>)"
      ]
     },
     "execution_count": 34,
     "metadata": {},
     "output_type": "execute_result"
    }
   ],
   "source": [
    "residuals"
   ]
  },
  {
   "cell_type": "code",
   "execution_count": 35,
   "metadata": {},
   "outputs": [
    {
     "data": {
      "text/plain": [
       "[tensor([ 1.3938, -0.8955, -0.9965,  ..., -0.8499, -0.3050, -0.1302]),\n",
       " tensor([ 0.6620, -0.9113, -0.3192,  ..., -1.0208, -0.7290, -1.0413]),\n",
       " tensor([-0.8830,  0.3981,  1.1177,  ...,  1.3561,  0.8814,  1.2646]),\n",
       " tensor([-0.8782,  1.6083, -0.5593,  ..., -0.9249,  2.1496, -0.7014]),\n",
       " tensor([-0.5444,  0.4572,  1.1722,  ..., -0.1728, -0.6225,  0.0153]),\n",
       " tensor([ 0.6897,  1.2876, -0.4185,  ..., -1.0115,  1.6955,  0.2224]),\n",
       " tensor([ 1.4631e+00,  1.5881e-01,  2.1496e+00,  ...,  1.8387e+00,\n",
       "          8.9297e-01, -1.0259e-03]),\n",
       " tensor([ 0.4145, -0.5816, -1.0117,  ...,  0.6127, -0.7223, -0.6618]),\n",
       " tensor([ 2.5343,  1.0286, -0.9961,  ..., -1.2151, -1.0454, -0.9208]),\n",
       " tensor([-0.0415, -0.2867, -0.8392,  ..., -0.6377,  0.6759, -0.8124]),\n",
       " tensor([-0.3568, -0.8061, -0.7691,  ..., -0.8724, -0.3887,  0.0181]),\n",
       " tensor([ 0.2805,  0.4557,  0.8002,  ...,  1.0499, -0.5265, -0.7173]),\n",
       " tensor([-0.5660, -0.4554,  0.5046,  ..., -0.5314,  2.2088,  0.8158]),\n",
       " tensor([-0.7709, -0.4115,  0.9093,  ...,  0.7814, -0.8917, -0.4051]),\n",
       " tensor([ 2.3241, -0.4323, -0.9056,  ..., -0.8649, -0.8136, -0.7086]),\n",
       " tensor([-1.0814,  0.9084,  1.9841,  ..., -0.6088,  0.9370, -0.1520]),\n",
       " tensor([ 2.6015,  0.6474, -0.9326,  ..., -0.4051,  1.1597, -0.5286]),\n",
       " tensor([-0.9124,  0.2093,  1.6372,  ..., -0.7998, -1.1299,  0.0910]),\n",
       " tensor([ 1.6158, -0.8671,  0.1215,  ...,  1.1814, -0.8873,  1.1672]),\n",
       " tensor([-0.6714, -0.2155, -0.3131,  ..., -0.9098, -0.7588,  0.1102]),\n",
       " tensor([ 1.2700, -1.0196,  0.9262,  ...,  1.5472, -0.7872, -1.1161]),\n",
       " tensor([ 0.0605, -0.9468,  0.6682,  ..., -0.3812, -1.0454, -0.8522]),\n",
       " tensor([ 2.2288,  0.7016,  0.3953,  ..., -1.0648, -0.9823, -0.2535]),\n",
       " tensor([-0.5539, -0.3059, -0.7363,  ..., -0.8043,  1.1268, -0.3915]),\n",
       " tensor([-0.8640,  1.2251,  2.1215,  ..., -0.9057,  0.0277, -0.2310]),\n",
       " tensor([-0.7612,  0.3981, -0.8332,  ..., -0.5802,  2.0991, -0.5694]),\n",
       " tensor([ 0.6473,  1.2700,  1.1309,  ...,  3.2100, -0.9331, -0.4763]),\n",
       " tensor([ 1.2736, -0.8480,  0.6494,  ...,  0.2462,  0.6920, -0.0113]),\n",
       " tensor([ 1.0171,  0.6157,  1.3511,  ...,  0.5214, -0.0884, -0.4093]),\n",
       " tensor([ 0.8428, -0.4498, -0.1712,  ..., -0.8492,  0.8910, -0.9094])]"
      ]
     },
     "execution_count": 35,
     "metadata": {},
     "output_type": "execute_result"
    }
   ],
   "source": [
    "bootstrap_residuals"
   ]
  },
  {
   "cell_type": "markdown",
   "metadata": {},
   "source": [
    "## generate synthetic dataset"
   ]
  },
  {
   "cell_type": "code",
   "execution_count": 36,
   "metadata": {},
   "outputs": [],
   "source": [
    "synthetic_datasets = []\n",
    "for bootstrap_residual in bootstrap_residuals:\n",
    "    synthetic_y = baseline_model(X_train).squeeze().detach() + bootstrap_residual\n",
    "    synthetic_datasets.append({\"feats\": X_train, \"target\": synthetic_y})"
   ]
  },
  {
   "cell_type": "code",
   "execution_count": 37,
   "metadata": {},
   "outputs": [
    {
     "data": {
      "text/plain": [
       "torch.Size([2478])"
      ]
     },
     "execution_count": 37,
     "metadata": {},
     "output_type": "execute_result"
    }
   ],
   "source": [
    "synthetic_datasets[0][\"target\"].shape"
   ]
  },
  {
   "cell_type": "code",
   "execution_count": 38,
   "metadata": {},
   "outputs": [
    {
     "data": {
      "text/plain": [
       "tensor([-0.6937, -0.8284, -0.1213,  ...,  2.0335, -0.9631,  1.1244])"
      ]
     },
     "execution_count": 38,
     "metadata": {},
     "output_type": "execute_result"
    }
   ],
   "source": [
    "y_train"
   ]
  },
  {
   "cell_type": "code",
   "execution_count": 39,
   "metadata": {},
   "outputs": [
    {
     "data": {
      "text/plain": [
       "tensor([ 1.3561, -0.9494, -1.0476,  ..., -0.6595, -0.3623, -0.1536])"
      ]
     },
     "execution_count": 39,
     "metadata": {},
     "output_type": "execute_result"
    }
   ],
   "source": [
    "synthetic_datasets[0][\"target\"]"
   ]
  },
  {
   "cell_type": "code",
   "execution_count": 40,
   "metadata": {},
   "outputs": [
    {
     "data": {
      "text/plain": [
       "[Parameter containing:\n",
       " tensor([[-0.0182, -0.0448, -0.0165],\n",
       "         [ 0.1730, -0.0008,  0.3259],\n",
       "         [ 0.3303,  0.3160, -0.3112],\n",
       "         [-0.3441, -0.3703, -0.0289]], requires_grad=True),\n",
       " Parameter containing:\n",
       " tensor([ 0.0230,  0.2137, -0.4849,  0.4270], requires_grad=True),\n",
       " Parameter containing:\n",
       " tensor([[-0.0176,  0.0997, -0.0462,  0.0368]], requires_grad=True),\n",
       " Parameter containing:\n",
       " tensor([-0.0661], requires_grad=True)]"
      ]
     },
     "execution_count": 40,
     "metadata": {},
     "output_type": "execute_result"
    }
   ],
   "source": [
    "list(baseline_model.parameters())"
   ]
  },
  {
   "cell_type": "markdown",
   "metadata": {},
   "source": [
    "## train synthetic models"
   ]
  },
  {
   "cell_type": "code",
   "execution_count": 41,
   "metadata": {},
   "outputs": [
    {
     "name": "stderr",
     "output_type": "stream",
     "text": [
      "loss = 1.4860747409105013: 100%|███████████████████████████████████████████████████████████████████████████| 100/100 [00:11<00:00,  8.80it/s]\n",
      "loss = 1.0799203476807684: 100%|███████████████████████████████████████████████████████████████████████████| 100/100 [00:11<00:00,  8.84it/s]\n",
      "loss = 1.098552892533303: 100%|████████████████████████████████████████████████████████████████████████████| 100/100 [00:11<00:00,  8.81it/s]\n",
      "loss = 0.980374810169357: 100%|████████████████████████████████████████████████████████████████████████████| 100/100 [00:11<00:00,  8.78it/s]\n",
      "loss = 1.0485238087235005: 100%|███████████████████████████████████████████████████████████████████████████| 100/100 [00:11<00:00,  8.79it/s]\n",
      "loss = 1.01878118272074: 100%|█████████████████████████████████████████████████████████████████████████████| 100/100 [00:11<00:00,  8.80it/s]\n",
      "loss = 1.0096142476393004: 100%|███████████████████████████████████████████████████████████████████████████| 100/100 [00:12<00:00,  7.98it/s]\n",
      "loss = 1.0745747477489676: 100%|███████████████████████████████████████████████████████████████████████████| 100/100 [00:15<00:00,  6.45it/s]\n",
      "loss = 0.9209204464188692: 100%|███████████████████████████████████████████████████████████████████████████| 100/100 [00:14<00:00,  6.72it/s]\n",
      "loss = 1.2038522825679343: 100%|███████████████████████████████████████████████████████████████████████████| 100/100 [00:12<00:00,  8.09it/s]\n",
      "loss = 1.815143456169922: 100%|████████████████████████████████████████████████████████████████████████████| 100/100 [00:13<00:00,  7.63it/s]\n",
      "loss = 1.143178656613086: 100%|████████████████████████████████████████████████████████████████████████████| 100/100 [00:12<00:00,  8.02it/s]\n",
      "loss = 1.035154711103324: 100%|████████████████████████████████████████████████████████████████████████████| 100/100 [00:12<00:00,  8.15it/s]\n",
      "loss = 1.036346343277538: 100%|████████████████████████████████████████████████████████████████████████████| 100/100 [00:12<00:00,  8.14it/s]\n",
      "loss = 1.0774319614249914: 100%|███████████████████████████████████████████████████████████████████████████| 100/100 [00:12<00:00,  8.11it/s]\n",
      "loss = 1.0884722294443745: 100%|███████████████████████████████████████████████████████████████████████████| 100/100 [00:12<00:00,  8.14it/s]\n",
      "loss = 1.006609619529715: 100%|████████████████████████████████████████████████████████████████████████████| 100/100 [00:12<00:00,  8.31it/s]\n",
      "loss = 1.2123329229322146: 100%|███████████████████████████████████████████████████████████████████████████| 100/100 [00:12<00:00,  8.33it/s]\n",
      "loss = 1.0415426498223352: 100%|███████████████████████████████████████████████████████████████████████████| 100/100 [00:12<00:00,  8.31it/s]\n",
      "loss = 1.110443676138617: 100%|████████████████████████████████████████████████████████████████████████████| 100/100 [00:11<00:00,  8.37it/s]\n",
      "loss = 1.0021188987706149: 100%|███████████████████████████████████████████████████████████████████████████| 100/100 [00:12<00:00,  8.31it/s]\n",
      "loss = 1.3027889664563757: 100%|███████████████████████████████████████████████████████████████████████████| 100/100 [00:12<00:00,  8.02it/s]\n",
      "loss = 1.2351601052130299: 100%|███████████████████████████████████████████████████████████████████████████| 100/100 [00:13<00:00,  7.28it/s]\n",
      "loss = 1.1052174504674952: 100%|███████████████████████████████████████████████████████████████████████████| 100/100 [00:12<00:00,  7.81it/s]\n",
      "loss = 1.3843935009413808: 100%|███████████████████████████████████████████████████████████████████████████| 100/100 [00:12<00:00,  8.31it/s]\n",
      "loss = 1.4109104002244872: 100%|███████████████████████████████████████████████████████████████████████████| 100/100 [00:11<00:00,  8.47it/s]\n",
      "loss = 1.1657752099058338: 100%|███████████████████████████████████████████████████████████████████████████| 100/100 [00:11<00:00,  8.46it/s]\n",
      "loss = 1.0179111330474548: 100%|███████████████████████████████████████████████████████████████████████████| 100/100 [00:12<00:00,  8.24it/s]\n",
      "loss = 1.1230460463318737: 100%|███████████████████████████████████████████████████████████████████████████| 100/100 [00:12<00:00,  8.18it/s]\n",
      "loss = 0.9375858960178612: 100%|███████████████████████████████████████████████████████████████████████████| 100/100 [00:14<00:00,  6.89it/s]\n"
     ]
    }
   ],
   "source": [
    "synthetic_models = []\n",
    "for synthetic_dataset in synthetic_datasets:\n",
    "    feats = synthetic_dataset[\"feats\"]\n",
    "    target = synthetic_dataset[\"target\"]\n",
    "    train_dl = DataLoader(TheDataset(feats, target), batch_size=BATCH_SIZE, shuffle=True)\n",
    "    model = torch.nn.Sequential(\n",
    "        torch.nn.Linear(3, 4),\n",
    "        torch.nn.Linear(4, 1),\n",
    "    )\n",
    "    loss_fn = torch.nn.MSELoss(reduction='mean')\n",
    "    optimizer = torch.optim.RMSprop(baseline_model.parameters(), lr=1e-3)\n",
    "    train_loop(model, loss_fn, optimizer, 100, train_dl)\n",
    "    synthetic_models.append(model)"
   ]
  },
  {
   "cell_type": "code",
   "execution_count": 42,
   "metadata": {},
   "outputs": [],
   "source": [
    "for synthetic_model in synthetic_models:\n",
    "    synthetic_model.eval()"
   ]
  },
  {
   "cell_type": "code",
   "execution_count": 43,
   "metadata": {},
   "outputs": [
    {
     "data": {
      "text/plain": [
       "[Parameter containing:\n",
       " tensor([[ 0.2858, -0.3448,  0.1639],\n",
       "         [-0.3405,  0.5424,  0.3288],\n",
       "         [ 0.1514, -0.3833,  0.2411],\n",
       "         [ 0.5667,  0.1355,  0.5364]], requires_grad=True),\n",
       " Parameter containing:\n",
       " tensor([-0.2520, -0.1362, -0.2469,  0.1695], requires_grad=True),\n",
       " Parameter containing:\n",
       " tensor([[ 0.2257,  0.2044,  0.2105, -0.4861]], requires_grad=True),\n",
       " Parameter containing:\n",
       " tensor([-0.4186], requires_grad=True)]"
      ]
     },
     "execution_count": 43,
     "metadata": {},
     "output_type": "execute_result"
    }
   ],
   "source": [
    "list(synthetic_models[0].parameters())"
   ]
  },
  {
   "cell_type": "markdown",
   "metadata": {},
   "source": [
    "## aggregate parameters from trained synthetic models"
   ]
  },
  {
   "cell_type": "code",
   "execution_count": 44,
   "metadata": {},
   "outputs": [],
   "source": [
    "parameter_structure = []\n",
    "for index, module in enumerate(baseline_model.modules()):\n",
    "    if not isinstance(module, nn.Sequential):\n",
    "        parameter_structure.append({\"index\": index-1, \"type\": \"weight\", \"size\": module.weight.size(), \"nelement\": module.weight.nelement()})\n",
    "        parameter_structure.append({\"index\": index-1, \"type\": \"bias\", \"size\": module.bias.size(), \"nelement\": module.bias.nelement()})"
   ]
  },
  {
   "cell_type": "code",
   "execution_count": 45,
   "metadata": {},
   "outputs": [
    {
     "data": {
      "text/plain": [
       "[{'index': 0, 'type': 'weight', 'size': torch.Size([4, 3]), 'nelement': 12},\n",
       " {'index': 0, 'type': 'bias', 'size': torch.Size([4]), 'nelement': 4},\n",
       " {'index': 1, 'type': 'weight', 'size': torch.Size([1, 4]), 'nelement': 4},\n",
       " {'index': 1, 'type': 'bias', 'size': torch.Size([1]), 'nelement': 1}]"
      ]
     },
     "execution_count": 45,
     "metadata": {},
     "output_type": "execute_result"
    }
   ],
   "source": [
    "parameter_structure"
   ]
  },
  {
   "cell_type": "code",
   "execution_count": 46,
   "metadata": {},
   "outputs": [],
   "source": [
    "aggregated_params = []\n",
    "for synthetic_model in synthetic_models:\n",
    "    params = [p.detach() for p in synthetic_model.parameters()]\n",
    "    concat_params = torch.cat([p.reshape(-1) for p in params])\n",
    "    aggregated_params.append(concat_params)"
   ]
  },
  {
   "cell_type": "code",
   "execution_count": 47,
   "metadata": {},
   "outputs": [
    {
     "data": {
      "text/plain": [
       "tensor([ 0.2858, -0.3448,  0.1639, -0.3405,  0.5424,  0.3288,  0.1514, -0.3833,\n",
       "         0.2411,  0.5667,  0.1355,  0.5364, -0.2520, -0.1362, -0.2469,  0.1695,\n",
       "         0.2257,  0.2044,  0.2105, -0.4861, -0.4186])"
      ]
     },
     "execution_count": 47,
     "metadata": {},
     "output_type": "execute_result"
    }
   ],
   "source": [
    "aggregated_params[0]"
   ]
  },
  {
   "cell_type": "code",
   "execution_count": 48,
   "metadata": {},
   "outputs": [],
   "source": [
    "all_params = torch.vstack(aggregated_params)"
   ]
  },
  {
   "cell_type": "markdown",
   "metadata": {},
   "source": [
    "## calculate means and covariance matrix of synthetic parameters, create multivariate normal distribution and random sampling 100 sets of parameters"
   ]
  },
  {
   "cell_type": "code",
   "execution_count": 50,
   "metadata": {},
   "outputs": [],
   "source": [
    "means = np.mean(all_params.numpy(), axis=0)"
   ]
  },
  {
   "cell_type": "code",
   "execution_count": 52,
   "metadata": {},
   "outputs": [],
   "source": [
    "cov_mat = np.cov(all_params.numpy().T)"
   ]
  },
  {
   "cell_type": "code",
   "execution_count": 54,
   "metadata": {},
   "outputs": [],
   "source": [
    "from scipy.stats import multivariate_normal"
   ]
  },
  {
   "cell_type": "code",
   "execution_count": 55,
   "metadata": {},
   "outputs": [],
   "source": [
    "params_dist = multivariate_normal(mean=means, cov=cov_mat)"
   ]
  },
  {
   "cell_type": "code",
   "execution_count": 56,
   "metadata": {},
   "outputs": [],
   "source": [
    "mc_params = params_dist.rvs(size=100)"
   ]
  },
  {
   "cell_type": "code",
   "execution_count": 58,
   "metadata": {},
   "outputs": [],
   "source": [
    "mc_params = torch.Tensor(mc_params).type(torch.float32)"
   ]
  },
  {
   "cell_type": "code",
   "execution_count": 59,
   "metadata": {},
   "outputs": [
    {
     "data": {
      "text/plain": [
       "tensor([[ 0.1167, -0.4333,  0.0631,  ...,  0.1084, -0.0900,  0.0098],\n",
       "        [ 0.2512, -0.3052, -0.0640,  ...,  0.1645, -0.2383, -0.6552],\n",
       "        [-0.3372, -0.0494, -0.1128,  ...,  0.3365,  0.1530, -0.0134],\n",
       "        ...,\n",
       "        [-0.1234,  0.5069,  0.3924,  ..., -0.2952,  0.3350, -0.4100],\n",
       "        [-0.4269, -0.0797, -0.2203,  ...,  0.1689, -0.1437,  0.4242],\n",
       "        [ 0.2327, -0.2046, -0.1569,  ...,  0.0255, -0.2900, -0.8315]])"
      ]
     },
     "execution_count": 59,
     "metadata": {},
     "output_type": "execute_result"
    }
   ],
   "source": [
    "mc_params"
   ]
  },
  {
   "cell_type": "markdown",
   "metadata": {},
   "source": [
    "## create models with MC generated sets of params"
   ]
  },
  {
   "cell_type": "code",
   "execution_count": 60,
   "metadata": {},
   "outputs": [],
   "source": [
    "mc_model = torch.nn.Sequential(\n",
    "    torch.nn.Linear(3, 4),\n",
    "    torch.nn.Linear(4, 1),\n",
    ")\n"
   ]
  },
  {
   "cell_type": "code",
   "execution_count": 62,
   "metadata": {},
   "outputs": [],
   "source": [
    "mc_models = []\n",
    "for params in mc_params:\n",
    "    mc_model = torch.nn.Sequential(\n",
    "        torch.nn.Linear(3, 4),\n",
    "        torch.nn.Linear(4, 1),\n",
    "    )\n",
    "    # assign params\n",
    "    index = 0\n",
    "    for param_struct in parameter_structure:\n",
    "        layer_index = param_struct[\"index\"]\n",
    "        param_type = param_struct[\"type\"]\n",
    "        param_size = param_struct[\"size\"]\n",
    "        nelement = param_struct[\"nelement\"]\n",
    "        nelement = index + nelement\n",
    "        param = params[index:nelement].reshape(param_size)\n",
    "        model_layer = mc_model[layer_index]\n",
    "        setattr(model_layer, param_type, nn.Parameter(param))\n",
    "        index = nelement\n",
    "    mc_models.append(mc_model)"
   ]
  },
  {
   "cell_type": "code",
   "execution_count": 63,
   "metadata": {},
   "outputs": [
    {
     "data": {
      "text/plain": [
       "100"
      ]
     },
     "execution_count": 63,
     "metadata": {},
     "output_type": "execute_result"
    }
   ],
   "source": [
    "len(mc_models)"
   ]
  },
  {
   "cell_type": "markdown",
   "metadata": {},
   "source": [
    "# Uncertainty boxplot"
   ]
  },
  {
   "cell_type": "code",
   "execution_count": 67,
   "metadata": {},
   "outputs": [],
   "source": [
    "mc_predictions = []\n",
    "for mc_model in mc_models:\n",
    "    mc_model.eval()\n",
    "    mc_prediction = mc_model(X_test).squeeze()\n",
    "    mc_predictions.append(mc_prediction)"
   ]
  },
  {
   "cell_type": "code",
   "execution_count": 73,
   "metadata": {},
   "outputs": [],
   "source": [
    "mc_predictions = torch.vstack(mc_predictions)"
   ]
  },
  {
   "cell_type": "code",
   "execution_count": 108,
   "metadata": {},
   "outputs": [],
   "source": [
    "mc_predictions = mc_predictions.detach().numpy()"
   ]
  },
  {
   "cell_type": "code",
   "execution_count": 109,
   "metadata": {},
   "outputs": [],
   "source": [
    "mc_predictions = pd.DataFrame(mc_predictions)"
   ]
  },
  {
   "cell_type": "code",
   "execution_count": 110,
   "metadata": {},
   "outputs": [
    {
     "data": {
      "text/html": [
       "<div>\n",
       "<style scoped>\n",
       "    .dataframe tbody tr th:only-of-type {\n",
       "        vertical-align: middle;\n",
       "    }\n",
       "\n",
       "    .dataframe tbody tr th {\n",
       "        vertical-align: top;\n",
       "    }\n",
       "\n",
       "    .dataframe thead th {\n",
       "        text-align: right;\n",
       "    }\n",
       "</style>\n",
       "<table border=\"1\" class=\"dataframe\">\n",
       "  <thead>\n",
       "    <tr style=\"text-align: right;\">\n",
       "      <th></th>\n",
       "      <th>0</th>\n",
       "      <th>1</th>\n",
       "      <th>2</th>\n",
       "      <th>3</th>\n",
       "      <th>4</th>\n",
       "      <th>5</th>\n",
       "      <th>6</th>\n",
       "      <th>7</th>\n",
       "      <th>8</th>\n",
       "      <th>9</th>\n",
       "      <th>...</th>\n",
       "      <th>816</th>\n",
       "      <th>817</th>\n",
       "      <th>818</th>\n",
       "      <th>819</th>\n",
       "      <th>820</th>\n",
       "      <th>821</th>\n",
       "      <th>822</th>\n",
       "      <th>823</th>\n",
       "      <th>824</th>\n",
       "      <th>825</th>\n",
       "    </tr>\n",
       "  </thead>\n",
       "  <tbody>\n",
       "    <tr>\n",
       "      <th>0</th>\n",
       "      <td>-0.188435</td>\n",
       "      <td>0.064364</td>\n",
       "      <td>-0.157361</td>\n",
       "      <td>-0.168568</td>\n",
       "      <td>-0.030471</td>\n",
       "      <td>-0.580346</td>\n",
       "      <td>-0.250173</td>\n",
       "      <td>-0.521111</td>\n",
       "      <td>-0.133041</td>\n",
       "      <td>-0.197421</td>\n",
       "      <td>...</td>\n",
       "      <td>-0.315387</td>\n",
       "      <td>-0.311533</td>\n",
       "      <td>-0.120846</td>\n",
       "      <td>0.060117</td>\n",
       "      <td>-0.544626</td>\n",
       "      <td>-0.103853</td>\n",
       "      <td>-0.427514</td>\n",
       "      <td>-0.317569</td>\n",
       "      <td>-0.398454</td>\n",
       "      <td>-0.463030</td>\n",
       "    </tr>\n",
       "    <tr>\n",
       "      <th>1</th>\n",
       "      <td>-0.698614</td>\n",
       "      <td>-0.512715</td>\n",
       "      <td>-0.442359</td>\n",
       "      <td>-0.605774</td>\n",
       "      <td>-0.626164</td>\n",
       "      <td>-0.843486</td>\n",
       "      <td>-0.561938</td>\n",
       "      <td>-0.888153</td>\n",
       "      <td>-0.615795</td>\n",
       "      <td>-0.941111</td>\n",
       "      <td>...</td>\n",
       "      <td>-0.666497</td>\n",
       "      <td>-0.679945</td>\n",
       "      <td>-0.973325</td>\n",
       "      <td>-0.740472</td>\n",
       "      <td>-0.879288</td>\n",
       "      <td>-0.592993</td>\n",
       "      <td>-0.697896</td>\n",
       "      <td>-0.698945</td>\n",
       "      <td>-0.788885</td>\n",
       "      <td>-0.713337</td>\n",
       "    </tr>\n",
       "    <tr>\n",
       "      <th>2</th>\n",
       "      <td>-0.248390</td>\n",
       "      <td>-0.270666</td>\n",
       "      <td>-0.305842</td>\n",
       "      <td>-0.290821</td>\n",
       "      <td>-0.245528</td>\n",
       "      <td>-0.242534</td>\n",
       "      <td>-0.318178</td>\n",
       "      <td>-0.238917</td>\n",
       "      <td>-0.290763</td>\n",
       "      <td>-0.228446</td>\n",
       "      <td>...</td>\n",
       "      <td>-0.304953</td>\n",
       "      <td>-0.291192</td>\n",
       "      <td>-0.230845</td>\n",
       "      <td>-0.216628</td>\n",
       "      <td>-0.265624</td>\n",
       "      <td>-0.284855</td>\n",
       "      <td>-0.270358</td>\n",
       "      <td>-0.269446</td>\n",
       "      <td>-0.268875</td>\n",
       "      <td>-0.250181</td>\n",
       "    </tr>\n",
       "    <tr>\n",
       "      <th>3</th>\n",
       "      <td>0.157000</td>\n",
       "      <td>0.076821</td>\n",
       "      <td>-0.040189</td>\n",
       "      <td>0.023686</td>\n",
       "      <td>0.160766</td>\n",
       "      <td>0.180412</td>\n",
       "      <td>-0.063112</td>\n",
       "      <td>0.198385</td>\n",
       "      <td>0.026240</td>\n",
       "      <td>0.245279</td>\n",
       "      <td>...</td>\n",
       "      <td>-0.013642</td>\n",
       "      <td>0.027764</td>\n",
       "      <td>0.244890</td>\n",
       "      <td>0.261351</td>\n",
       "      <td>0.119749</td>\n",
       "      <td>0.041184</td>\n",
       "      <td>0.086393</td>\n",
       "      <td>0.092538</td>\n",
       "      <td>0.103265</td>\n",
       "      <td>0.145287</td>\n",
       "    </tr>\n",
       "    <tr>\n",
       "      <th>4</th>\n",
       "      <td>0.570194</td>\n",
       "      <td>0.726186</td>\n",
       "      <td>0.751295</td>\n",
       "      <td>0.876143</td>\n",
       "      <td>0.567319</td>\n",
       "      <td>0.375066</td>\n",
       "      <td>1.007179</td>\n",
       "      <td>0.477347</td>\n",
       "      <td>0.929613</td>\n",
       "      <td>0.788318</td>\n",
       "      <td>...</td>\n",
       "      <td>0.989718</td>\n",
       "      <td>0.870603</td>\n",
       "      <td>0.949933</td>\n",
       "      <td>0.556957</td>\n",
       "      <td>0.723668</td>\n",
       "      <td>0.854328</td>\n",
       "      <td>0.562850</td>\n",
       "      <td>0.666017</td>\n",
       "      <td>0.741757</td>\n",
       "      <td>0.338848</td>\n",
       "    </tr>\n",
       "    <tr>\n",
       "      <th>...</th>\n",
       "      <td>...</td>\n",
       "      <td>...</td>\n",
       "      <td>...</td>\n",
       "      <td>...</td>\n",
       "      <td>...</td>\n",
       "      <td>...</td>\n",
       "      <td>...</td>\n",
       "      <td>...</td>\n",
       "      <td>...</td>\n",
       "      <td>...</td>\n",
       "      <td>...</td>\n",
       "      <td>...</td>\n",
       "      <td>...</td>\n",
       "      <td>...</td>\n",
       "      <td>...</td>\n",
       "      <td>...</td>\n",
       "      <td>...</td>\n",
       "      <td>...</td>\n",
       "      <td>...</td>\n",
       "      <td>...</td>\n",
       "      <td>...</td>\n",
       "    </tr>\n",
       "    <tr>\n",
       "      <th>95</th>\n",
       "      <td>-0.028523</td>\n",
       "      <td>-0.062638</td>\n",
       "      <td>0.142695</td>\n",
       "      <td>0.270085</td>\n",
       "      <td>-0.153614</td>\n",
       "      <td>0.078669</td>\n",
       "      <td>0.469895</td>\n",
       "      <td>0.132941</td>\n",
       "      <td>0.295479</td>\n",
       "      <td>0.187710</td>\n",
       "      <td>...</td>\n",
       "      <td>0.499003</td>\n",
       "      <td>0.374631</td>\n",
       "      <td>0.288887</td>\n",
       "      <td>-0.241790</td>\n",
       "      <td>0.401578</td>\n",
       "      <td>0.197110</td>\n",
       "      <td>0.154348</td>\n",
       "      <td>0.171288</td>\n",
       "      <td>0.307982</td>\n",
       "      <td>-0.045024</td>\n",
       "    </tr>\n",
       "    <tr>\n",
       "      <th>96</th>\n",
       "      <td>-0.143016</td>\n",
       "      <td>-0.214521</td>\n",
       "      <td>-0.442523</td>\n",
       "      <td>-0.521574</td>\n",
       "      <td>-0.052677</td>\n",
       "      <td>-0.150004</td>\n",
       "      <td>-0.753663</td>\n",
       "      <td>-0.202936</td>\n",
       "      <td>-0.551759</td>\n",
       "      <td>-0.292350</td>\n",
       "      <td>...</td>\n",
       "      <td>-0.736114</td>\n",
       "      <td>-0.590119</td>\n",
       "      <td>-0.406017</td>\n",
       "      <td>0.078864</td>\n",
       "      <td>-0.508122</td>\n",
       "      <td>-0.453258</td>\n",
       "      <td>-0.315649</td>\n",
       "      <td>-0.350766</td>\n",
       "      <td>-0.458851</td>\n",
       "      <td>-0.077835</td>\n",
       "    </tr>\n",
       "    <tr>\n",
       "      <th>97</th>\n",
       "      <td>-0.312616</td>\n",
       "      <td>-0.553212</td>\n",
       "      <td>-0.132701</td>\n",
       "      <td>0.157747</td>\n",
       "      <td>-0.624750</td>\n",
       "      <td>0.096722</td>\n",
       "      <td>0.520012</td>\n",
       "      <td>0.183342</td>\n",
       "      <td>0.190605</td>\n",
       "      <td>0.162150</td>\n",
       "      <td>...</td>\n",
       "      <td>0.639880</td>\n",
       "      <td>0.428717</td>\n",
       "      <td>0.317488</td>\n",
       "      <td>-0.769632</td>\n",
       "      <td>0.653975</td>\n",
       "      <td>-0.000896</td>\n",
       "      <td>0.104367</td>\n",
       "      <td>0.087500</td>\n",
       "      <td>0.394059</td>\n",
       "      <td>-0.218932</td>\n",
       "    </tr>\n",
       "    <tr>\n",
       "      <th>98</th>\n",
       "      <td>0.001523</td>\n",
       "      <td>-0.224164</td>\n",
       "      <td>-0.208279</td>\n",
       "      <td>0.002781</td>\n",
       "      <td>-0.128807</td>\n",
       "      <td>0.221984</td>\n",
       "      <td>0.031178</td>\n",
       "      <td>0.280344</td>\n",
       "      <td>0.018184</td>\n",
       "      <td>0.322991</td>\n",
       "      <td>...</td>\n",
       "      <td>0.154287</td>\n",
       "      <td>0.126717</td>\n",
       "      <td>0.382428</td>\n",
       "      <td>-0.048750</td>\n",
       "      <td>0.362043</td>\n",
       "      <td>-0.040409</td>\n",
       "      <td>0.083186</td>\n",
       "      <td>0.079710</td>\n",
       "      <td>0.224737</td>\n",
       "      <td>0.036550</td>\n",
       "    </tr>\n",
       "    <tr>\n",
       "      <th>99</th>\n",
       "      <td>-0.804652</td>\n",
       "      <td>-0.967363</td>\n",
       "      <td>-1.297842</td>\n",
       "      <td>-1.384413</td>\n",
       "      <td>-0.698269</td>\n",
       "      <td>-0.753030</td>\n",
       "      <td>-1.728934</td>\n",
       "      <td>-0.828810</td>\n",
       "      <td>-1.430585</td>\n",
       "      <td>-0.981293</td>\n",
       "      <td>...</td>\n",
       "      <td>-1.678043</td>\n",
       "      <td>-1.459550</td>\n",
       "      <td>-1.150937</td>\n",
       "      <td>-0.490855</td>\n",
       "      <td>-1.280652</td>\n",
       "      <td>-1.291366</td>\n",
       "      <td>-1.038868</td>\n",
       "      <td>-1.100763</td>\n",
       "      <td>-1.237318</td>\n",
       "      <td>-0.680317</td>\n",
       "    </tr>\n",
       "  </tbody>\n",
       "</table>\n",
       "<p>100 rows × 826 columns</p>\n",
       "</div>"
      ],
      "text/plain": [
       "         0         1         2         3         4         5         6    \\\n",
       "0  -0.188435  0.064364 -0.157361 -0.168568 -0.030471 -0.580346 -0.250173   \n",
       "1  -0.698614 -0.512715 -0.442359 -0.605774 -0.626164 -0.843486 -0.561938   \n",
       "2  -0.248390 -0.270666 -0.305842 -0.290821 -0.245528 -0.242534 -0.318178   \n",
       "3   0.157000  0.076821 -0.040189  0.023686  0.160766  0.180412 -0.063112   \n",
       "4   0.570194  0.726186  0.751295  0.876143  0.567319  0.375066  1.007179   \n",
       "..       ...       ...       ...       ...       ...       ...       ...   \n",
       "95 -0.028523 -0.062638  0.142695  0.270085 -0.153614  0.078669  0.469895   \n",
       "96 -0.143016 -0.214521 -0.442523 -0.521574 -0.052677 -0.150004 -0.753663   \n",
       "97 -0.312616 -0.553212 -0.132701  0.157747 -0.624750  0.096722  0.520012   \n",
       "98  0.001523 -0.224164 -0.208279  0.002781 -0.128807  0.221984  0.031178   \n",
       "99 -0.804652 -0.967363 -1.297842 -1.384413 -0.698269 -0.753030 -1.728934   \n",
       "\n",
       "         7         8         9    ...       816       817       818       819  \\\n",
       "0  -0.521111 -0.133041 -0.197421  ... -0.315387 -0.311533 -0.120846  0.060117   \n",
       "1  -0.888153 -0.615795 -0.941111  ... -0.666497 -0.679945 -0.973325 -0.740472   \n",
       "2  -0.238917 -0.290763 -0.228446  ... -0.304953 -0.291192 -0.230845 -0.216628   \n",
       "3   0.198385  0.026240  0.245279  ... -0.013642  0.027764  0.244890  0.261351   \n",
       "4   0.477347  0.929613  0.788318  ...  0.989718  0.870603  0.949933  0.556957   \n",
       "..       ...       ...       ...  ...       ...       ...       ...       ...   \n",
       "95  0.132941  0.295479  0.187710  ...  0.499003  0.374631  0.288887 -0.241790   \n",
       "96 -0.202936 -0.551759 -0.292350  ... -0.736114 -0.590119 -0.406017  0.078864   \n",
       "97  0.183342  0.190605  0.162150  ...  0.639880  0.428717  0.317488 -0.769632   \n",
       "98  0.280344  0.018184  0.322991  ...  0.154287  0.126717  0.382428 -0.048750   \n",
       "99 -0.828810 -1.430585 -0.981293  ... -1.678043 -1.459550 -1.150937 -0.490855   \n",
       "\n",
       "         820       821       822       823       824       825  \n",
       "0  -0.544626 -0.103853 -0.427514 -0.317569 -0.398454 -0.463030  \n",
       "1  -0.879288 -0.592993 -0.697896 -0.698945 -0.788885 -0.713337  \n",
       "2  -0.265624 -0.284855 -0.270358 -0.269446 -0.268875 -0.250181  \n",
       "3   0.119749  0.041184  0.086393  0.092538  0.103265  0.145287  \n",
       "4   0.723668  0.854328  0.562850  0.666017  0.741757  0.338848  \n",
       "..       ...       ...       ...       ...       ...       ...  \n",
       "95  0.401578  0.197110  0.154348  0.171288  0.307982 -0.045024  \n",
       "96 -0.508122 -0.453258 -0.315649 -0.350766 -0.458851 -0.077835  \n",
       "97  0.653975 -0.000896  0.104367  0.087500  0.394059 -0.218932  \n",
       "98  0.362043 -0.040409  0.083186  0.079710  0.224737  0.036550  \n",
       "99 -1.280652 -1.291366 -1.038868 -1.100763 -1.237318 -0.680317  \n",
       "\n",
       "[100 rows x 826 columns]"
      ]
     },
     "execution_count": 110,
     "metadata": {},
     "output_type": "execute_result"
    }
   ],
   "source": [
    "mc_predictions"
   ]
  },
  {
   "cell_type": "code",
   "execution_count": 122,
   "metadata": {},
   "outputs": [
    {
     "data": {
      "text/plain": [
       "<matplotlib.collections.PathCollection at 0x204042ee370>"
      ]
     },
     "execution_count": 122,
     "metadata": {},
     "output_type": "execute_result"
    },
    {
     "data": {
      "image/png": "[encoded data removed]",
      "text/plain": [
       "<Figure size 1080x720 with 1 Axes>"
      ]
     },
     "metadata": {
      "needs_background": "light"
     },
     "output_type": "display_data"
    }
   ],
   "source": [
    "ax = plt.subplot()\n",
    "ax.figure.set_figwidth(15)\n",
    "ax.figure.set_figheight(10)\n",
    "mc_predictions.boxplot(figsize=(20, 20), column=list(range(10)), ax=ax, whis=(10, 90))\n",
    "ax.scatter(range(1,11), y_test[:10], marker=\"x\", c=\"r\", s=200)"
   ]
  }
 ],
 "metadata": {
  "kernelspec": {
   "display_name": "Python 3",
   "language": "python",
   "name": "python3"
  },
  "language_info": {
   "codemirror_mode": {
    "name": "ipython",
    "version": 3
   },
   "file_extension": ".py",
   "mimetype": "text/x-python",
   "name": "python",
   "nbconvert_exporter": "python",
   "pygments_lexer": "ipython3",
   "version": "3.8.5"
  }
 },
 "nbformat": 4,
 "nbformat_minor": 4
}
